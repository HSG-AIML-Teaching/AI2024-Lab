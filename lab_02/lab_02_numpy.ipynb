{
 "cells": [
  {
   "cell_type": "markdown",
   "metadata": {
    "id": "NjOY9vpCTsyM"
   },
   "source": [
    "<img align=\"center\" style=\"max-width: 1000px\" src=\"https://raw.githubusercontent.com/HSG-AIML-Teaching/AI2024-Lab/main/banner.png?raw=1\">"
   ]
  },
  {
   "cell_type": "markdown",
   "metadata": {
    "id": "BHjoHwerTsyk"
   },
   "source": [
    "<img align=\"right\" style=\"max-width: 200px; height: auto\" src=\"https://raw.githubusercontent.com/HSG-AIML-Teaching/AI2024-Lab/main/hsg_logo.png?raw=1\">\n",
    "\n",
    "##  Lab 02 - \"Numerical Math, Plotting & Images\"\n",
    "\n",
    "Artificial Intelligence (Spring 2024), University of St. Gallen\n"
   ]
  },
  {
   "cell_type": "markdown",
   "metadata": {
    "id": "Pq6BVJJ0Tsyn"
   },
   "source": [
    "In this lab course, we will build on this new knowledge and introduce some modules, techniques, and concepts that we will need in the future for designing and training machine learning and deep learning models."
   ]
  },
  {
   "cell_type": "code",
   "execution_count": null,
   "metadata": {},
   "outputs": [],
   "source": [
    "# Install required packages\n",
    "# !pip install numpy\n",
    "# !pip install matplotlib\n",
    "# !pip install scikit-learn\n",
    "# !pip install pillow\n",
    "# !pip install sckit-image"
   ]
  },
  {
   "cell_type": "markdown",
   "metadata": {
    "id": "aZczAChjTsyp"
   },
   "source": [
    "## NumPy\n",
    "\n",
    "[NumPy](https://docs.scipy.org/doc/numpy-1.14.0/reference/index.html) is the fundamental package for scientific computing with Python and supports you with numerically and computationally intensive problems. The core of NumPy forms the concept of arrays, which we will learn about next. Building on the concept of arrays, NumPy provides a wide range of mathematical functionality."
   ]
  },
  {
   "cell_type": "code",
   "execution_count": null,
   "metadata": {},
   "outputs": [],
   "source": [
    "# Import required packages\n",
    "import numpy as np"
   ]
  },
  {
   "cell_type": "markdown",
   "metadata": {
    "id": "pqxGci2FAhsH"
   },
   "source": [
    "#### NumPy Arrays and Tensors\n",
    "\n",
    "Lists are useful, but rather memory intensive. If you want to process large amounts of data - like we do in machine learning applications - you want to use your limited memory more efficiently. \n",
    "NumPy arrays are here to help: they are lists on steroids. \n",
    "\n",
    "Creating an array is as easy as creating a list:"
   ]
  },
  {
   "cell_type": "code",
   "execution_count": null,
   "metadata": {
    "id": "IJ1iSIO8AhsH"
   },
   "outputs": [],
   "source": [
    "l = [0, 1, 2]   # this is a list\n",
    "a = np.array(l) # this is an array\n",
    "a"
   ]
  },
  {
   "cell_type": "markdown",
   "metadata": {
    "id": "O0d93Ls2AhsH"
   },
   "source": [
    "You can create an array from a list, or you can use the NumPy equivalent of `range`:"
   ]
  },
  {
   "cell_type": "code",
   "execution_count": null,
   "metadata": {
    "id": "Dkz8FR06AhsH"
   },
   "outputs": [],
   "source": [
    "a = np.arange(0, 3, 1)\n",
    "a"
   ]
  },
  {
   "cell_type": "markdown",
   "metadata": {
    "id": "G9FcOOKGAhsH"
   },
   "source": [
    "The first big difference between lists and arrays is that all elements in an array **must** be of the same data type (list elements can have different data types, though). As a result, an array has a data type attribute:"
   ]
  },
  {
   "cell_type": "code",
   "execution_count": null,
   "metadata": {
    "id": "Uw6WAJIzAhsH"
   },
   "outputs": [],
   "source": [
    "a.dtype"
   ]
  },
  {
   "cell_type": "markdown",
   "metadata": {
    "id": "7vf75yPaAhsH"
   },
   "source": [
    "In this case, the data type is 64-bit integer, which is a derivate of the integer we already met as a basic data type. \n",
    "\n",
    "Arrays are able to perform element-wise operations:"
   ]
  },
  {
   "cell_type": "code",
   "execution_count": null,
   "metadata": {
    "id": "ulI9A8soAhsH"
   },
   "outputs": [],
   "source": [
    "print(a + 1)  # element-wise addition\n",
    "print(a - 4)  # element-wise subtraction\n",
    "print(a * 2)  # element-wise multiplication\n",
    "print(a ** 2)  # element-wise exponentiation\n",
    "#print(l+1)   # a list cannot do this"
   ]
  },
  {
   "cell_type": "markdown",
   "metadata": {
    "id": "4WOGCE3CAhsH"
   },
   "source": [
    "Some operations may require your array to adopt a different datatype. Python will do that for you:"
   ]
  },
  {
   "cell_type": "code",
   "execution_count": null,
   "metadata": {
    "id": "vP4ckHy6AhsH"
   },
   "outputs": [],
   "source": [
    "print(a/2)\n",
    "print((a/2).dtype)"
   ]
  },
  {
   "cell_type": "markdown",
   "metadata": {
    "id": "p3J3wHzJAhsH"
   },
   "source": [
    "Indexing and slicing work the exact same way as for lists:"
   ]
  },
  {
   "cell_type": "code",
   "execution_count": null,
   "metadata": {
    "id": "6cCYLun0AhsH"
   },
   "outputs": [],
   "source": [
    "print(a[0])\n",
    "print(a[:2])\n",
    "print(a[-1])\n",
    "print(a[::-1])  # reverse array by using a step size of -1"
   ]
  },
  {
   "cell_type": "markdown",
   "metadata": {
    "id": "3uUF0UYcAhsH"
   },
   "source": [
    "You can also use arithmetic operations involving two arrays:"
   ]
  },
  {
   "cell_type": "code",
   "execution_count": null,
   "metadata": {
    "id": "9OTMghMSAhsH"
   },
   "outputs": [],
   "source": [
    "print(a + np.array([1, 2, 3]))\n",
    "#print(l + [1, 2, 3])  # in the case of lists, this will concatenate the two lists"
   ]
  },
  {
   "cell_type": "markdown",
   "metadata": {
    "id": "oQIm0xvZAhsH"
   },
   "source": [
    "You can consider a one-dimensional array as a **vector**. But arrays are not limited to one dimension. You can create a two-dimensional array, which you can then consider as a **matrix**:"
   ]
  },
  {
   "cell_type": "code",
   "execution_count": null,
   "metadata": {
    "id": "LDuzsPPyAhsI"
   },
   "outputs": [],
   "source": [
    "m = np.array([[1, 2, 3], [4, 5, 6], [7, 8, 9]])\n",
    "m"
   ]
  },
  {
   "cell_type": "markdown",
   "metadata": {
    "id": "JxRXtUABAhsI"
   },
   "source": [
    "Everything we learned about arrays so far holds up for two-dimensional arrays:"
   ]
  },
  {
   "cell_type": "code",
   "execution_count": null,
   "metadata": {
    "id": "yYh9JG9zAhsI"
   },
   "outputs": [],
   "source": [
    "print(m[0])       # the first element of m is a one-dimensional array\n",
    "print(m[:, 1])    # the second element of each row\n",
    "print(m + 1)      # element-wise addition\n",
    "print(m * a)      # multiply vector a with each row of matrix m"
   ]
  },
  {
   "cell_type": "markdown",
   "metadata": {
    "id": "mlYMRFJrAhsI"
   },
   "source": [
    "Please note the notation in line 2: `m[:, 0]`\n",
    "This might look weird to you, but it's easy to explain what happens here: in a two-dimensional array, you have one index for each dimension. In `[:, 0]`, `:` refers to the first dimension (the rows) and `0` refers to the second dimension (the columns). Thus, it retrieves the element in the first column for each row. If you have additional (n) dimensions, the same logic applies, which gives you a powerful tool to easily access data in your arrays."
   ]
  },
  {
   "cell_type": "markdown",
   "metadata": {
    "id": "Hhr2nu_9TszD"
   },
   "source": [
    "Since arrays can be multi-dimensional, you can easily check their shape in the different dimensions:"
   ]
  },
  {
   "cell_type": "code",
   "execution_count": null,
   "metadata": {
    "id": "CGWq0DseTszD"
   },
   "outputs": [],
   "source": [
    "m.shape"
   ]
  },
  {
   "cell_type": "markdown",
   "metadata": {
    "id": "Bg41yna_TszG"
   },
   "source": [
    "Arrays can be easily reshaped:"
   ]
  },
  {
   "cell_type": "code",
   "execution_count": null,
   "metadata": {
    "id": "1MiZRVsYTszH"
   },
   "outputs": [],
   "source": [
    "m.reshape(1, 9)"
   ]
  },
  {
   "cell_type": "markdown",
   "metadata": {
    "id": "RGRBNEM6TszI"
   },
   "source": [
    "For long arrays it can be a hassle to figure out the exact dimensions if you want to reshape an Array. Numpy will help you if know all but one of the dimensions that your resulting Array should be in. In that case, you can replace the missing dimension with `-1`. For instance, the previous command can be written as:"
   ]
  },
  {
   "cell_type": "code",
   "execution_count": null,
   "metadata": {
    "id": "sVfSfibeTszJ"
   },
   "outputs": [],
   "source": [
    "m.reshape(1, -1)"
   ]
  },
  {
   "cell_type": "markdown",
   "metadata": {
    "id": "QiXZiYRCAhsI"
   },
   "source": [
    "Ok, that's all nice. But what is NumPy's other selling point? It is fast. Let me show you just how fast. \n",
    "Let's assume you have a long list and want to change every element in that list. This will take a while:"
   ]
  },
  {
   "cell_type": "code",
   "execution_count": null,
   "metadata": {
    "id": "HaawbLRoAhsI"
   },
   "outputs": [],
   "source": [
    "%%timeit\n",
    "l = range(1000000)\n",
    "l2 = []\n",
    "for x in l:\n",
    "    l2.append(x**2)\n",
    "l2"
   ]
  },
  {
   "cell_type": "markdown",
   "metadata": {
    "id": "nZTu0qxrAhsI"
   },
   "source": [
    "If you try the same in NumPy, you can do it in fewer lines of code and with much faster runtime:"
   ]
  },
  {
   "cell_type": "code",
   "execution_count": null,
   "metadata": {
    "id": "x35Vy_SiAhsI"
   },
   "outputs": [],
   "source": [
    "%%timeit\n",
    "a = np.arange(1000000)\n",
    "a**2"
   ]
  },
  {
   "cell_type": "markdown",
   "metadata": {
    "id": "OhLD8s64AhsI"
   },
   "source": [
    "NumPy is so much faster since it vectorizes computations: it applies the operation on each element of an array at the same time. This is possible since NumPy uses C implementations in the background. You, as a user, benefit from the speed of C and the simplicity of Python at the same time."
   ]
  },
  {
   "cell_type": "markdown",
   "metadata": {
    "id": "9-MANoS8AhsN"
   },
   "source": [
    "## Basic Python Image Manipulations"
   ]
  },
  {
   "cell_type": "markdown",
   "metadata": {
    "id": "aZ3gvsTSAhsO"
   },
   "source": [
    "The **\"Python Imaging Library (Pillow)\"** by Alex Clark and contributors (abbreviated as PIL, in newer versions known as Pillow), is a free library for the Python programming language that adds support for opening, manipulating, and saving many different image file formats (https://pillow.readthedocs.io/en/stable/). Using the PIL library in combination with the Numpy library allows for a great deal image analysis and manipulation. \n",
    "\n",
    "To make an arbitrary image interpretable for a computer images are usually represented by 3D tensors as shown below:"
   ]
  },
  {
   "cell_type": "markdown",
   "metadata": {
    "id": "ZQIJnB6CAhsO"
   },
   "source": [
    "<img align=\"center\" style=\"max-width: 1000px; height: auto\" src=\"https://raw.githubusercontent.com/HSG-AIML-Teaching/IEMBA2024-Lab/main/lab_02/python_image_processing.png\">"
   ]
  },
  {
   "cell_type": "markdown",
   "metadata": {
    "id": "Vy5bTy_jAhsO"
   },
   "source": [
    "(Source: **\"Learning Perceptual Organization with Minimal Human Supervision\"**, Stella Yu, UC Berkeley, 2019.) "
   ]
  },
  {
   "cell_type": "markdown",
   "metadata": {
    "id": "oYxSbkx0AhsO"
   },
   "source": [
    "If PIL is not installed, you can use the following code cell to install it:"
   ]
  },
  {
   "cell_type": "markdown",
   "metadata": {
    "id": "G1coyYU1AhsO"
   },
   "source": [
    "Upon successful installation we can now import the `PIL` and `Scikit-Image` libraries:"
   ]
  },
  {
   "cell_type": "code",
   "execution_count": null,
   "metadata": {
    "id": "IKSijcJDAhsO"
   },
   "outputs": [],
   "source": [
    "# import the pil, numpy and the matplotlib libraries\n",
    "from PIL import Image\n",
    "import numpy as np\n",
    "import matplotlib.pyplot as plt\n",
    "\n",
    "# import the scikit image library\n",
    "from skimage import io"
   ]
  },
  {
   "cell_type": "markdown",
   "metadata": {
    "id": "FNaMWFsmAhsO"
   },
   "source": [
    "The `PIL` library supports a wide variety of image file formats. To read files from disk, use the image read `imread` function of the `Scikit-Image` library. You don’t have to know the file format to open a file. The library automatically determines the format based on the contents of the file."
   ]
  },
  {
   "cell_type": "markdown",
   "metadata": {
    "id": "zARahrsKAhsO"
   },
   "source": [
    "#### 6.1. Image Loading and Plotting"
   ]
  },
  {
   "cell_type": "markdown",
   "metadata": {
    "id": "_di0sCBtAhsO"
   },
   "source": [
    "Let's open and plot the `halloween.jpg` image file:"
   ]
  },
  {
   "cell_type": "code",
   "execution_count": null,
   "metadata": {
    "id": "_xD2HhlvAhsO"
   },
   "outputs": [],
   "source": [
    "from urllib.request import urlopen  # this is only necessary to run the Notebook in the cloud\n",
    "\n",
    "# Load the image from the URL\n",
    "pil_img = Image.open(urlopen(\"https://raw.githubusercontent.com/HSG-AIML-Teaching/AI2024-Lab/main/lab_02/images/halloween.jpg\"))\n",
    "\n",
    "# Convert the PIL image to a numpy array\n",
    "image = np.asarray(pil_img)\n",
    "\n",
    "# Display the image\n",
    "plt.imshow(image, vmin=0, vmax=255)"
   ]
  },
  {
   "cell_type": "markdown",
   "metadata": {
    "id": "z17tzauAAhsO"
   },
   "source": [
    "Let's also have a look at the exact shape of the image:"
   ]
  },
  {
   "cell_type": "code",
   "execution_count": null,
   "metadata": {
    "id": "DQ4cvULFAhsO"
   },
   "outputs": [],
   "source": [
    "h, w, c = image.shape\n",
    "\n",
    "print(h)   # prints the image height\n",
    "print(w)   # prints the image width\n",
    "print(c)   # prints the number of image color channels = 3 for red, green, blue (rgb)"
   ]
  },
  {
   "cell_type": "markdown",
   "metadata": {
    "id": "uMjnBcUNAhsO"
   },
   "source": [
    "#### 6.2. Image Cropping"
   ]
  },
  {
   "cell_type": "markdown",
   "metadata": {
    "id": "ZhuWSecJAhsO"
   },
   "source": [
    "Use PIL to extract the upper pumpkin of the image:"
   ]
  },
  {
   "cell_type": "code",
   "execution_count": null,
   "metadata": {
    "id": "42gL3AE0AhsP"
   },
   "outputs": [],
   "source": [
    "upper_pumpkin = image[20:250, 20:300, :]\n",
    "plt.imshow(upper_pumpkin, vmin=0, vmax=255)"
   ]
  },
  {
   "cell_type": "markdown",
   "metadata": {
    "id": "Kcd1pj1xAhsP"
   },
   "source": [
    "#### 6.3. Image Channel Extraction"
   ]
  },
  {
   "cell_type": "markdown",
   "metadata": {
    "id": "jhVFu-8PAhsP"
   },
   "source": [
    "Let's extract the distinct (RGB) colour channels of the image:"
   ]
  },
  {
   "cell_type": "code",
   "execution_count": null,
   "metadata": {
    "id": "lml29ZPfAhsP"
   },
   "outputs": [],
   "source": [
    "# extraction of the red colour channel\n",
    "red_channel = upper_pumpkin[:,:,0]\n",
    "\n",
    "plt.imshow(red_channel)"
   ]
  },
  {
   "cell_type": "code",
   "execution_count": null,
   "metadata": {
    "id": "ysNFP2X9AhsP"
   },
   "outputs": [],
   "source": [
    "# extraction of the green colour channel\n",
    "green_channel = upper_pumpkin[:,:,1]\n",
    "\n",
    "plt.imshow(green_channel)"
   ]
  },
  {
   "cell_type": "code",
   "execution_count": null,
   "metadata": {
    "id": "8nz1hgxQAhsP"
   },
   "outputs": [],
   "source": [
    "# extraction of a blue colour channel\n",
    "blue_channel = upper_pumpkin[:,:,2]\n",
    "\n",
    "plt.imshow(blue_channel)"
   ]
  },
  {
   "cell_type": "markdown",
   "metadata": {
    "id": "NklOFig1AhsP"
   },
   "source": [
    "#### 6.4. Image Manipulation"
   ]
  },
  {
   "cell_type": "markdown",
   "metadata": {
    "id": "1_gLclj3AhsP"
   },
   "source": [
    "We can derive the standard deviation of the pixel values across all bands: this will indicate in which image areas there are the most significant differences between the three bands (spoiler: they all have bright eyers, nose, and mouth and the background is dark in all of the channels):"
   ]
  },
  {
   "cell_type": "code",
   "execution_count": null,
   "metadata": {
    "id": "xJS4IJodAhsP"
   },
   "outputs": [],
   "source": [
    "gray = upper_pumpkin.std(axis=2)\n",
    "plot = plt.imshow(gray, cmap=plt.cm.gray, vmin=0, vmax=255)"
   ]
  },
  {
   "cell_type": "markdown",
   "metadata": {
    "id": "BXrHfkHjTszg"
   },
   "source": [
    "We can also subtract image channels from each other:"
   ]
  },
  {
   "cell_type": "code",
   "execution_count": null,
   "metadata": {
    "id": "lxAC57juTszg"
   },
   "outputs": [],
   "source": [
    "diff = upper_pumpkin[:,:,1]-upper_pumpkin[:,:,2]  # green - blue\n",
    "plot = plt.imshow(diff, cmap=plt.cm.gray, vmin=0, vmax=255)"
   ]
  },
  {
   "cell_type": "markdown",
   "metadata": {
    "id": "M02dFot5AhsP"
   },
   "source": [
    "To learn more about PIL and its capabilities visit: https://pillow.readthedocs.io."
   ]
  },
  {
   "cell_type": "markdown",
   "metadata": {
    "id": "znKYrAIDTszh"
   },
   "source": [
    "## More Plotting with Matplotlib\n",
    "\n",
    "[matplotlib](https://matplotlib.org/) is the standard Python package for plotting data and images. We have already used its `imshow` function to display images (see above). The core task of matplotlib, however, is the plotting of data: line plots, scatter plots, bar plots, etc.\n",
    "In the following, we will present some example uses for matplotlib."
   ]
  },
  {
   "cell_type": "markdown",
   "metadata": {
    "id": "C4aTwKnUdja1"
   },
   "source": [
    "#### Plotting Lines\n",
    "\n",
    "The most simple plot - a line connecting three points: (0,0), (2, 1), and (5,2) where this notation means (x-coordinate, y-coordinate) -  can be set up as follows:"
   ]
  },
  {
   "cell_type": "code",
   "execution_count": null,
   "metadata": {
    "id": "DIYqAciFdja2"
   },
   "outputs": [],
   "source": [
    "import matplotlib.pyplot as plt  # import matplotlib\n",
    "\n",
    "x = [0, 2, 5]  # list of x coordinates\n",
    "y = [0, 1, 2]  # list of y coordinates\n",
    "\n",
    "plt.plot(x, y)"
   ]
  },
  {
   "cell_type": "markdown",
   "metadata": {
    "id": "JNxlS7JKdja2"
   },
   "source": [
    "We can easily add axis labels and a title:"
   ]
  },
  {
   "cell_type": "code",
   "execution_count": null,
   "metadata": {
    "id": "7yyLiE_ydja2"
   },
   "outputs": [],
   "source": [
    "x = [0, 2, 5]\n",
    "y = [0, 1, 2]\n",
    "\n",
    "plt.plot(x, y)\n",
    "plt.xlabel('Time')\n",
    "plt.ylabel('Money')\n",
    "plt.title('Time is Money')"
   ]
  },
  {
   "cell_type": "markdown",
   "metadata": {
    "id": "6U_MwRUidja2"
   },
   "source": [
    "We can also add a second line. In order to be able to distinguish the different data sets, matplotlib will choose a different line color. We can also add plot labels and a legend so we know which line refers to which data set:"
   ]
  },
  {
   "cell_type": "code",
   "execution_count": null,
   "metadata": {
    "id": "pSPVmR9xhDeN"
   },
   "outputs": [],
   "source": [
    "x = [0, 2, 5]\n",
    "y = [0, 1, 2]\n",
    "y2 = [3, 1, 4]\n",
    "\n",
    "plt.plot(x, y, label='data set 1')\n",
    "plt.plot(x, y2, label='data set 2')\n",
    "plt.xlabel('Time')\n",
    "plt.ylabel('Money')\n",
    "plt.title('Time is Money')\n",
    "plt.legend()"
   ]
  },
  {
   "cell_type": "markdown",
   "metadata": {
    "id": "MGbO19JWdja3"
   },
   "source": [
    "## Scatter Plots\n",
    "\n",
    "Point clouds can be displayed with scatter plots. You can choose from a wide range of marker types and colors."
   ]
  },
  {
   "cell_type": "code",
   "execution_count": null,
   "metadata": {
    "id": "vKRrSxMOhDgh"
   },
   "outputs": [],
   "source": [
    "plt.scatter(x, y, color='red', marker='s')  # marker='s': squares"
   ]
  },
  {
   "cell_type": "markdown",
   "metadata": {
    "id": "XtjSSVoTdja4"
   },
   "source": [
    "#### Plotting Function\n",
    "\n",
    "Mathematical functions can be plotted, too. This is typically accomplished by evaluating a function over a range in $x$ to generate $y$ values. The resulting $x$ and $y$ values can then be plotted as before:"
   ]
  },
  {
   "cell_type": "code",
   "execution_count": null,
   "metadata": {
    "id": "HAPxz1CghDiu"
   },
   "outputs": [],
   "source": [
    "import numpy as np\n",
    "\n",
    "x = np.arange(0, 7, 0.01)\n",
    "y = np.sin(x)\n",
    "\n",
    "plt.plot(x, y)"
   ]
  },
  {
   "cell_type": "code",
   "execution_count": null,
   "metadata": {},
   "outputs": [],
   "source": []
  }
 ],
 "metadata": {
  "colab": {
   "name": "lab_02.ipynb",
   "provenance": []
  },
  "kernelspec": {
   "display_name": "Python 3 (ipykernel)",
   "language": "python",
   "name": "python3"
  },
  "language_info": {
   "codemirror_mode": {
    "name": "ipython",
    "version": 3
   },
   "file_extension": ".py",
   "mimetype": "text/x-python",
   "name": "python",
   "nbconvert_exporter": "python",
   "pygments_lexer": "ipython3",
   "version": "3.9.18"
  },
  "vscode": {
   "interpreter": {
    "hash": "916dbcbb3f70747c44a77c7bcd40155683ae19c65e1c03b4aa3499c5328201f1"
   }
  }
 },
 "nbformat": 4,
 "nbformat_minor": 4
}
