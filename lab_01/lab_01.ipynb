{
 "cells": [
  {
   "cell_type": "markdown",
   "metadata": {},
   "source": [
    "<img align=\"center\" style=\"max-width: 1000px\" src=\"https://raw.githubusercontent.com/HSG-AIML-Teaching/AI2024-Lab/main/banner.png?raw=1\">"
   ]
  },
  {
   "cell_type": "markdown",
   "metadata": {},
   "source": [
    "<img align=\"right\" style=\"max-width: 200px; height: auto\" src=\"https://raw.githubusercontent.com/HSG-AIML-Teaching/AI2024-Lab/main/hsg_logo.png?raw=1\">\n",
    "\n",
    "##  Lab 01 - \"Python 101: Jupyter Notebooks and Python Basics\"\n",
    "\n",
    "Artificial Intelligence (Spring 2024), University of St. Gallen"
   ]
  },
  {
   "attachments": {},
   "cell_type": "markdown",
   "metadata": {},
   "source": [
    "In this first lab, we will touch on the basic concepts and techniques of Notebooks and the Python programming language in general.\n",
    "\n",
    "## Objectives\n",
    "* learn how to use a Jupyter Notebook\n",
    "* learn about the basics of the Python programming language\n",
    "    * the very basics\n",
    "    * basic data types and data containers\n",
    "    * fundamental programming structures\n",
    "    * Python functions\n",
    "    * Python modules\n"
   ]
  },
  {
   "attachments": {},
   "cell_type": "markdown",
   "metadata": {},
   "source": [
    "## Jupyter Notebooks\n",
    "\n",
    "The lab environment of this course builds on Jupyter Notebooks (https://jupyter.org), which provide a full-fledged Python environment for writing Python code. \n",
    "\n",
    "Jupyter Notebooks run on a **server** - either locally or in the cloud - allowing different users to access and use a pre-defined environment with pre-installed modules and packages. \n",
    "\n",
    "We will use Jupyter Notebooks with a **Python kernel**, meaning that our Notebooks will utilize the Python programming language. However, Notebooks can be utilized with a wide range of programming languages.\n",
    "\n",
    "The main advantage of Jupyter Notebooks is their unique character that mixes code elements with extensive documentation. This combination utilizes the concept of **cells** that either contain static content (like markdown text or other media) or code. The nature of a cell can be chosen from the corresponding menu (depends on the interface you are using)."
   ]
  },
  {
   "cell_type": "markdown",
   "metadata": {},
   "source": [
    "#### Cells"
   ]
  },
  {
   "cell_type": "markdown",
   "metadata": {},
   "source": [
    "This cell is a **markdown cell**. It only contains static text. You can modify the text by clicking into this cell (maybe twice, depending on the interface that you are using). Once you're done, \"run\" the cell by clicking the correponding button or by hitting `shift`+`enter` to render the output."
   ]
  },
  {
   "cell_type": "markdown",
   "metadata": {},
   "source": [
    "The following cell is a **code cell** that contains Python code. To evaluate a code cell, hit the \"run\" button or press `shift`+`enter` on your keyboard. Evaluating a cell evaluates each line of code in sequence, and prints the result of the last line (if any) below the cell."
   ]
  },
  {
   "cell_type": "code",
   "execution_count": null,
   "metadata": {},
   "outputs": [],
   "source": [
    "40 + 2"
   ]
  },
  {
   "cell_type": "markdown",
   "metadata": {},
   "source": [
    "A code cell can contain several lines of code, but keep in mind that only the result of the last line will be displayed."
   ]
  },
  {
   "cell_type": "code",
   "execution_count": null,
   "metadata": {},
   "outputs": [],
   "source": [
    "2 + 2\n",
    "3 + 3"
   ]
  },
  {
   "attachments": {},
   "cell_type": "markdown",
   "metadata": {},
   "source": [
    "Finally, you can create and insert new cells (of either type). This process depends on where your Notebook is running. In Google CoLab, you can simply move your mouse cursor between two cells and two buttons will appear that will add a code cell or a markdown cell."
   ]
  },
  {
   "attachments": {},
   "cell_type": "markdown",
   "metadata": {},
   "source": [
    "# Python\n",
    "\n",
    "## The very basics\n",
    "\n",
    "Writing Python **code** is as simple as writing text. \n",
    "\n",
    "Let's start with the typical Hello-World example:"
   ]
  },
  {
   "cell_type": "code",
   "execution_count": null,
   "metadata": {},
   "outputs": [],
   "source": [
    "print('hello world!')"
   ]
  },
  {
   "cell_type": "markdown",
   "metadata": {},
   "source": [
    "This code cell consists of a **function** call to the `print` function, which contains one **argument** (`'hello world!'`). The purpose of the `print` function is to print the argument on the screen. \n",
    "\n",
    "In order to support more or less complex calculations, Python supports **variables** to which values can be assigned:"
   ]
  },
  {
   "cell_type": "code",
   "execution_count": null,
   "metadata": {},
   "outputs": [],
   "source": [
    "a = 3"
   ]
  },
  {
   "cell_type": "markdown",
   "metadata": {},
   "source": [
    "The value of **object** `a` is now 3; whenever the variable is evaluated, it is replaced by this value:"
   ]
  },
  {
   "cell_type": "code",
   "execution_count": null,
   "metadata": {},
   "outputs": [],
   "source": [
    "a"
   ]
  },
  {
   "cell_type": "markdown",
   "metadata": {},
   "source": [
    "This can be exploited for mathematical expressions:"
   ]
  },
  {
   "cell_type": "code",
   "execution_count": null,
   "metadata": {},
   "outputs": [],
   "source": [
    "a + 1"
   ]
  },
  {
   "cell_type": "markdown",
   "metadata": {},
   "source": [
    "But note that the value of `a` does not change:"
   ]
  },
  {
   "cell_type": "code",
   "execution_count": null,
   "metadata": {},
   "outputs": [],
   "source": [
    "a"
   ]
  },
  {
   "cell_type": "markdown",
   "metadata": {},
   "source": [
    "The value of `a` only changes when `=` is involved"
   ]
  },
  {
   "cell_type": "code",
   "execution_count": null,
   "metadata": {},
   "outputs": [],
   "source": [
    "a = a + 1"
   ]
  },
  {
   "cell_type": "code",
   "execution_count": null,
   "metadata": {},
   "outputs": [],
   "source": [
    "a"
   ]
  },
  {
   "cell_type": "markdown",
   "metadata": {},
   "source": [
    "#### Comments\n",
    "\n",
    "The `#` character has a special meaning in Python. Whenever it appears, all following characters on the same line are considered a comment and are ignored. You can use comments to explain what certain parts of your code do."
   ]
  },
  {
   "cell_type": "code",
   "execution_count": null,
   "metadata": {},
   "outputs": [],
   "source": [
    "# this is a comment"
   ]
  },
  {
   "cell_type": "code",
   "execution_count": null,
   "metadata": {},
   "outputs": [],
   "source": [
    "print(1) # comments can be on the same line as code, too"
   ]
  },
  {
   "attachments": {},
   "cell_type": "markdown",
   "metadata": {
    "id": "4hlk6IuZAhr9"
   },
   "source": [
    "## Basic Data Types"
   ]
  },
  {
   "attachments": {},
   "cell_type": "markdown",
   "metadata": {
    "id": "kGC27WsnAhr9"
   },
   "source": [
    "The data type defines how data is stored in your computer's memory. This has implications for the format, sets the upper and lower bounds of the data.\n",
    "\n",
    "In Python, we do not need to declare a variable by explicitly mentioning the data type (as, e.g., in C or other programming lanuages). This feature is famously known as **dynamic typing**.\n",
    "\n",
    "Python determines the type of a literal (an element of code that has a fixed value) directly from the syntax at **runtime**. For example, non-decimal numbers will be stored as Integer types whereas those with a decimal point will be stored as floats (see below for definitions). The idea is to use that datatype that is able to store the data without loss in the most efficient way (i.e., using the least complex datatype)."
   ]
  },
  {
   "attachments": {},
   "cell_type": "markdown",
   "metadata": {
    "id": "3etc1a-UAhr9"
   },
   "source": [
    "There are a number of basic data types in the Python programming language, the most important of which are:\n",
    "\n",
    "> * **Integers** - represent positive or negative whole numbers with no decimal point.\n",
    "> * **Floats** - represent positive or negative real numbers and are written with a decimal point.\n",
    "> * **Strings** - represent sequences of Unicode characters.\n",
    "> * **Booleans** - represent constant objects that are either `False` or `True`. "
   ]
  },
  {
   "attachments": {},
   "cell_type": "markdown",
   "metadata": {
    "id": "xUWah-KXAhr9"
   },
   "source": [
    "### Numerical Data Types: Integer and Float"
   ]
  },
  {
   "attachments": {},
   "cell_type": "markdown",
   "metadata": {
    "id": "gpsXfiWeAhr9"
   },
   "source": [
    "**Whole numbers** (positive or negative) are represented in Python by **Integers** or **int**s. In Python 3, there is effectively no limit to how big an integer value can be. \n",
    "\n",
    "The **Float** datatype represents **real numbers** with a precision of up to 15 digits after the decimal point. \n",
    "\n",
    "As a result of *dynamic typing*, Python will decide whether to store a value as an integer or a float: "
   ]
  },
  {
   "cell_type": "code",
   "execution_count": null,
   "metadata": {
    "id": "2KWVklmeAhr9"
   },
   "outputs": [],
   "source": [
    "x = 3\n",
    "x"
   ]
  },
  {
   "attachments": {},
   "cell_type": "markdown",
   "metadata": {},
   "source": [
    "`x` is most likely an integer (as it contains a whole number), but we can check with the `type()` function [we will learn later that functions always have a set of brackets that contain the function's arguments]:"
   ]
  },
  {
   "cell_type": "code",
   "execution_count": null,
   "metadata": {
    "id": "_FPHU3tUAhr-"
   },
   "outputs": [],
   "source": [
    "type(x)"
   ]
  },
  {
   "attachments": {},
   "cell_type": "markdown",
   "metadata": {},
   "source": [
    "Yes, it is an integer! So, if we assign a real number, will the result be a float?"
   ]
  },
  {
   "cell_type": "code",
   "execution_count": null,
   "metadata": {},
   "outputs": [],
   "source": [
    "y = 3.14159\n",
    "type(y)"
   ]
  },
  {
   "attachments": {},
   "cell_type": "markdown",
   "metadata": {},
   "source": [
    "It certainly is. You can also enforce a specific data type. For instance, we can convert our integer value (`x`) into a float value: "
   ]
  },
  {
   "cell_type": "code",
   "execution_count": null,
   "metadata": {},
   "outputs": [],
   "source": [
    "float(x)"
   ]
  },
  {
   "attachments": {},
   "cell_type": "markdown",
   "metadata": {},
   "source": [
    "Note the change in notation: instead of `3`, the output is now `3.0`, indicating the value's float nature. \n",
    "\n",
    "Of course, we can also convert our float value (`y`) into an integer value:"
   ]
  },
  {
   "cell_type": "code",
   "execution_count": null,
   "metadata": {},
   "outputs": [],
   "source": [
    "int(y)"
   ]
  },
  {
   "attachments": {},
   "cell_type": "markdown",
   "metadata": {},
   "source": [
    "Be aware of what is happening here: the real value `3.14159` cannot be represented as an integer without loss of information. Therefore, rounding is involved. To reflect its integer nature, the resulting value has no decimal point."
   ]
  },
  {
   "attachments": {},
   "cell_type": "markdown",
   "metadata": {},
   "source": [
    "#### Mathematical Operations\n",
    "\n",
    "Variables are important to store data and to perform mathematical operations on them. Such operations are defined following the usual algebraic notation with:\n",
    "* `+` for addition\n",
    "* `*` for multiplication\n",
    "* `/` for division\n",
    "* `**` for exponentiation\n",
    "* `%` for the modulo operator"
   ]
  },
  {
   "cell_type": "code",
   "execution_count": null,
   "metadata": {},
   "outputs": [],
   "source": [
    "2*y/(x+1)"
   ]
  },
  {
   "attachments": {},
   "cell_type": "markdown",
   "metadata": {},
   "source": [
    "Please note how the typical rules involving brackets are followed. More complex mathematical functions are available in Python, but we will introduce them later when we start using the NumPy package.\n",
    "\n",
    "For now, let's make another observation and that is that the values of x and y have not changed:"
   ]
  },
  {
   "cell_type": "code",
   "execution_count": null,
   "metadata": {},
   "outputs": [],
   "source": [
    "x, y"
   ]
  },
  {
   "attachments": {},
   "cell_type": "markdown",
   "metadata": {},
   "source": [
    "[this notation may look weird for now; we created a tuple, which we introduce below formally; for now, this is just an efficient way to display more than one value]\n",
    "\n",
    "Of, course, we can assign the result of our computation to another variable and store its value:"
   ]
  },
  {
   "cell_type": "code",
   "execution_count": null,
   "metadata": {
    "id": "darB8tgDAhr-"
   },
   "outputs": [],
   "source": [
    "z = 2*y/(x+1)\n",
    "z"
   ]
  },
  {
   "attachments": {},
   "cell_type": "markdown",
   "metadata": {},
   "source": [
    "Great, now we can use Python as a sophisticated calculator!"
   ]
  },
  {
   "attachments": {},
   "cell_type": "markdown",
   "metadata": {
    "id": "h8i6xfnaAhr-"
   },
   "source": [
    "#### Strings"
   ]
  },
  {
   "cell_type": "markdown",
   "metadata": {
    "id": "iz5xnvarAhr-"
   },
   "source": [
    "A sequence of one or more characters enclosed within either single quotes `'` or double quotes `\"` is considered as a **string** in Python. Any letter, a number or a symbol could be a part of the string. All the characters between the opening delimiter and matching closing delimiter are part of the string:"
   ]
  },
  {
   "cell_type": "code",
   "execution_count": null,
   "metadata": {
    "id": "s6DTT6qNAhr-"
   },
   "outputs": [],
   "source": [
    "s1 = 'hello'    # string literals can use single quotes\n",
    "s2 = \"gruezi\"  # or double quotes; it does not matter.\n",
    "s1, s2"
   ]
  },
  {
   "attachments": {},
   "cell_type": "markdown",
   "metadata": {
    "id": "umpjULcKAhr-"
   },
   "source": [
    "Let us check that the datatype of either variable is what we expect:"
   ]
  },
  {
   "cell_type": "code",
   "execution_count": null,
   "metadata": {
    "id": "F6yrWc1hAhr-"
   },
   "outputs": [],
   "source": [
    "type(s1)"
   ]
  },
  {
   "attachments": {},
   "cell_type": "markdown",
   "metadata": {
    "id": "sAEpANuFAhr-"
   },
   "source": [
    "Strings are sequences, so they have a specific length. Using the `len()` function, we can get the length of the strings:"
   ]
  },
  {
   "cell_type": "code",
   "execution_count": null,
   "metadata": {
    "id": "xle40UhVAhr-"
   },
   "outputs": [],
   "source": [
    "len(s1), len(s2)"
   ]
  },
  {
   "attachments": {},
   "cell_type": "markdown",
   "metadata": {
    "id": "TjT5t9KuAhr_"
   },
   "source": [
    "#### Indexing and Slicing\n",
    "\n",
    "Like most programming languages, Python allows accessing individual characters of a string based on their \"index\", which indicates the position in the string. The process of \"getting\" a specific element of the sequence is symbolized by a pair of square brackets (`[]`) and is typically referred to as **indexing**.\n",
    "\n",
    "**Important Python Rule No. 1: Python starts counting indices at 0.**\n",
    "\n",
    "The index of the first character is 0, the index of the second character is 1, and so on:"
   ]
  },
  {
   "cell_type": "code",
   "execution_count": null,
   "metadata": {
    "id": "Qrbxn0zUAhr_"
   },
   "outputs": [],
   "source": [
    "s1[0], s1[1], s1[2] # getting the first, second and third character of s1"
   ]
  },
  {
   "attachments": {},
   "cell_type": "markdown",
   "metadata": {},
   "source": [
    "Reaching the end of a string seems tedious? Not really, since Python also supports negative indices. Index `-1` represents the last character of the string. Similarly using `-2`, we can access the penultimate character of the string and so on:"
   ]
  },
  {
   "cell_type": "code",
   "execution_count": null,
   "metadata": {},
   "outputs": [],
   "source": [
    "s1[-1], s1[-2] # getting the ultimate and penultimate character of s1"
   ]
  },
  {
   "attachments": {},
   "cell_type": "markdown",
   "metadata": {},
   "source": [
    "Similar to indexing, which only extracts individuals characters, we can also extract parts of strings. This process is called **slicing** and uses a very similar notation:"
   ]
  },
  {
   "cell_type": "code",
   "execution_count": null,
   "metadata": {},
   "outputs": [],
   "source": [
    "s1[1:3] # slice from the second to the fourth (exclusive) character"
   ]
  },
  {
   "attachments": {},
   "cell_type": "markdown",
   "metadata": {},
   "source": [
    "Here, we create a slice that starts with the second character (index `1`) and ends before reaching the fourth character (index `3`). The range between those indices is indicated by the colon symbol. \n",
    "\n",
    "Python is smart about this notation. Leaving out the first (start) index will create a slice that starts at the very beginning of the string and leaving out the second (stop) index will create a slice that reaches the very end of the string: "
   ]
  },
  {
   "cell_type": "code",
   "execution_count": null,
   "metadata": {},
   "outputs": [],
   "source": [
    "s1[:3], s1[3:]"
   ]
  },
  {
   "attachments": {},
   "cell_type": "markdown",
   "metadata": {},
   "source": [
    "Naturally, a slice with a start and stop index will return the full string:"
   ]
  },
  {
   "cell_type": "code",
   "execution_count": null,
   "metadata": {},
   "outputs": [],
   "source": [
    "s1[:]"
   ]
  },
  {
   "attachments": {},
   "cell_type": "markdown",
   "metadata": {},
   "source": [
    "One more detail: slices can also have a step size, which defaults to one. If a different step size is wished, it is simply added with another colon:"
   ]
  },
  {
   "cell_type": "code",
   "execution_count": null,
   "metadata": {},
   "outputs": [],
   "source": [
    "s1[::2]"
   ]
  },
  {
   "attachments": {},
   "cell_type": "markdown",
   "metadata": {},
   "source": [
    "This will return only every second character. Very useful is a step size of `-1`, which will simple reverse the string:"
   ]
  },
  {
   "cell_type": "code",
   "execution_count": null,
   "metadata": {},
   "outputs": [],
   "source": [
    "s1[::-1]"
   ]
  },
  {
   "attachments": {},
   "cell_type": "markdown",
   "metadata": {},
   "source": [
    "A very common error that occurs when indexing is the `IndexError`. It happens when the user tries to index an element that does not exist (index > length-1):"
   ]
  },
  {
   "cell_type": "code",
   "execution_count": null,
   "metadata": {},
   "outputs": [],
   "source": [
    "#s1[10]"
   ]
  },
  {
   "attachments": {},
   "cell_type": "markdown",
   "metadata": {
    "id": "-4CtNNh3Ahr_"
   },
   "source": [
    "#### String manipulations\n",
    "\n",
    "We can concatenate two strings with `+` symbol [addition makes no sense for strings, so the symbol refers to concatenation in this case]:"
   ]
  },
  {
   "cell_type": "code",
   "execution_count": null,
   "metadata": {
    "id": "37TZkrLHAhr_"
   },
   "outputs": [],
   "source": [
    "s3 = s1 + ', ' + s2 + ' and guten tag'  # string concatenation\n",
    "s3"
   ]
  },
  {
   "attachments": {},
   "cell_type": "markdown",
   "metadata": {
    "id": "fhTpE7vWAhr_"
   },
   "source": [
    "[in case you are wondering what `', '` and `' and guten tag'` are: those are string literals]\n",
    "\n",
    "\n",
    "Strings are implemented as a class (see below) and there exists a number of useful methods to deal with them. For instance, you can replace occurring character with the `replace()` method:"
   ]
  },
  {
   "cell_type": "code",
   "execution_count": null,
   "metadata": {
    "id": "Y-CMRkieAhr_"
   },
   "outputs": [],
   "source": [
    "s1.replace('e', 'a')"
   ]
  },
  {
   "attachments": {},
   "cell_type": "markdown",
   "metadata": {},
   "source": [
    "You can strip a string of leading and/or trailing symbols like whitespaces with the `strip()` method:"
   ]
  },
  {
   "cell_type": "code",
   "execution_count": null,
   "metadata": {},
   "outputs": [],
   "source": [
    "'  there are too many whitespace around this       '.strip()"
   ]
  },
  {
   "attachments": {},
   "cell_type": "markdown",
   "metadata": {},
   "source": [
    "Another useful method is to split a string into a list (see below) based on some delimiter symbol; this can be achived with the `split()` method:"
   ]
  },
  {
   "cell_type": "code",
   "execution_count": null,
   "metadata": {},
   "outputs": [],
   "source": [
    "'John,12.5,New_York,#FF0000'.split(',')"
   ]
  },
  {
   "attachments": {},
   "cell_type": "markdown",
   "metadata": {},
   "source": [
    "Finally, strings can be formatted nicely with their `format()` method (see [here](https://docs.python.org/3/library/string.html#format-string-syntax) for details):"
   ]
  },
  {
   "cell_type": "code",
   "execution_count": null,
   "metadata": {},
   "outputs": [],
   "source": [
    "temp = 12.123425624523\n",
    "\n",
    "print(\"The current temperature is {:.1f}C.\".format(temp))"
   ]
  },
  {
   "attachments": {},
   "cell_type": "markdown",
   "metadata": {
    "id": "mLTPXEkRAhr_"
   },
   "source": [
    "### Booleans"
   ]
  },
  {
   "cell_type": "markdown",
   "metadata": {
    "id": "9rBSDo72Ahr_"
   },
   "source": [
    "Python provides a Boolean data type. Objects of type boolean type may have one of two values, \"True\" or \"False\":"
   ]
  },
  {
   "cell_type": "code",
   "execution_count": null,
   "metadata": {
    "id": "pnGl-y-YAhr_"
   },
   "outputs": [],
   "source": [
    "a = True\n",
    "b = False\n",
    "a, b"
   ]
  },
  {
   "attachments": {},
   "cell_type": "markdown",
   "metadata": {
    "id": "e5-q0QRpAhsA"
   },
   "source": [
    "Booleans are often used in Python to test conditions. For example, variables can be compared to values:"
   ]
  },
  {
   "cell_type": "code",
   "execution_count": null,
   "metadata": {},
   "outputs": [],
   "source": [
    "x > 1  # read: is x greater than 1?"
   ]
  },
  {
   "cell_type": "code",
   "execution_count": null,
   "metadata": {},
   "outputs": [],
   "source": [
    "x > 3  # read: is x greater than 3?"
   ]
  },
  {
   "cell_type": "code",
   "execution_count": null,
   "metadata": {},
   "outputs": [],
   "source": [
    "x == 2  # read: is x equal to 2?"
   ]
  },
  {
   "attachments": {},
   "cell_type": "markdown",
   "metadata": {
    "id": "NCt2v7X7AhsA"
   },
   "source": [
    "Other available conditional operators are `>=` (greater than or equal to), `<=` (less than or equal to) or `!=` (not equal to).\n",
    "\n",
    "We can combine logical expressions:"
   ]
  },
  {
   "cell_type": "code",
   "execution_count": null,
   "metadata": {
    "id": "kuZZwqeSAhsA"
   },
   "outputs": [],
   "source": [
    "(x > 2) and (y < 4)"
   ]
  },
  {
   "attachments": {},
   "cell_type": "markdown",
   "metadata": {},
   "source": [
    "Available logic includes `and`, `or` and `not`.\n",
    "\n",
    "Booleans and logical expressions will be important in the context of `if` statements, which we will introduce later."
   ]
  },
  {
   "attachments": {},
   "cell_type": "markdown",
   "metadata": {
    "id": "gAktEvEHAhsB"
   },
   "source": [
    "## Data Containers"
   ]
  },
  {
   "attachments": {},
   "cell_type": "markdown",
   "metadata": {
    "id": "oXL3MIogAhsB"
   },
   "source": [
    "Python provides a number of collection data types to store more complex data; the three most important data containers are:\n",
    "\n",
    "> * **List** - a collection that is ordered and mutable (changeable). \n",
    "> * **Tuple** - a collection that is ordered and immutable (unchangeable).\n",
    "> * **Dictionary** - a collection that is unordered, changeable and indexed. Elements must be unique.\n"
   ]
  },
  {
   "attachments": {},
   "cell_type": "markdown",
   "metadata": {
    "id": "_pdB4n_0AhsB"
   },
   "source": [
    "### Lists"
   ]
  },
  {
   "attachments": {},
   "cell_type": "markdown",
   "metadata": {
    "id": "roWncLMJAhsB"
   },
   "source": [
    "A list is a collection or sequence of basic Python data types in which \"elements\" are ordered in a mutable (elements can be changed) sequence.\n",
    "\n",
    "In Python, lists are written with square brackets. Python lists allow duplicate elements, are resizeable and can contain elements of different data types. Lists can be initialized like this:"
   ]
  },
  {
   "cell_type": "code",
   "execution_count": null,
   "metadata": {},
   "outputs": [],
   "source": [
    "l = [42, 5, 128, 5, 97, 208]\n",
    "l"
   ]
  },
  {
   "attachments": {},
   "cell_type": "markdown",
   "metadata": {},
   "source": [
    "Since we already introduced strings, which are sequences of characters, you will see that many properties also apply to lists. \n",
    "\n",
    "Lists have a length:"
   ]
  },
  {
   "cell_type": "code",
   "execution_count": null,
   "metadata": {},
   "outputs": [],
   "source": [
    "len(l)"
   ]
  },
  {
   "attachments": {},
   "cell_type": "markdown",
   "metadata": {},
   "source": [
    "Lists support indexing:"
   ]
  },
  {
   "cell_type": "code",
   "execution_count": null,
   "metadata": {},
   "outputs": [],
   "source": [
    "l[2]"
   ]
  },
  {
   "attachments": {},
   "cell_type": "markdown",
   "metadata": {},
   "source": [
    "Lists support slicing:"
   ]
  },
  {
   "cell_type": "code",
   "execution_count": null,
   "metadata": {},
   "outputs": [],
   "source": [
    "l[1:4]  # second to fourth element"
   ]
  },
  {
   "cell_type": "markdown",
   "metadata": {
    "id": "YwuSfBVAAhsB"
   },
   "source": [
    "Lists are their own variable type:"
   ]
  },
  {
   "cell_type": "code",
   "execution_count": null,
   "metadata": {
    "id": "6tYjOue2AhsB"
   },
   "outputs": [],
   "source": [
    "type(l)"
   ]
  },
  {
   "attachments": {},
   "cell_type": "markdown",
   "metadata": {
    "id": "pvjIVfOEAhsC"
   },
   "source": [
    "Lists are mutable, so we can change individual elements..."
   ]
  },
  {
   "cell_type": "code",
   "execution_count": null,
   "metadata": {},
   "outputs": [],
   "source": [
    "l[1] = 0\n",
    "l"
   ]
  },
  {
   "attachments": {},
   "cell_type": "markdown",
   "metadata": {},
   "source": [
    "... and we can append an element to the end of a list:"
   ]
  },
  {
   "cell_type": "code",
   "execution_count": null,
   "metadata": {
    "id": "oohToEtaAhsC"
   },
   "outputs": [],
   "source": [
    "l.append('test')    # add a new element to the end of the list\n",
    "l"
   ]
  },
  {
   "attachments": {},
   "cell_type": "markdown",
   "metadata": {
    "id": "j0lF8PxpAhsC"
   },
   "source": [
    "Note that lists do not care about the datatypes of their elements: we can easily append a string to a list of integers."
   ]
  },
  {
   "attachments": {},
   "cell_type": "markdown",
   "metadata": {},
   "source": [
    "### Tuples\n",
    "\n",
    "Tuples are basically immutable lists. They use parentheses instead of square brackets as a visual distinction:"
   ]
  },
  {
   "cell_type": "code",
   "execution_count": null,
   "metadata": {},
   "outputs": [],
   "source": [
    "t = (1, \"test\", 56)\n",
    "t"
   ]
  },
  {
   "cell_type": "markdown",
   "metadata": {},
   "source": [
    "Most list functions also work on tuples:"
   ]
  },
  {
   "cell_type": "code",
   "execution_count": null,
   "metadata": {},
   "outputs": [],
   "source": [
    "len(t)"
   ]
  },
  {
   "attachments": {},
   "cell_type": "markdown",
   "metadata": {},
   "source": [
    "But keep in mind that tuples cannot be modified (because they are immutable):"
   ]
  },
  {
   "cell_type": "code",
   "execution_count": null,
   "metadata": {},
   "outputs": [],
   "source": [
    "#t[0] = 5"
   ]
  },
  {
   "attachments": {},
   "cell_type": "markdown",
   "metadata": {
    "id": "K6iNqlsmAhsC"
   },
   "source": [
    "### Dictionaries"
   ]
  },
  {
   "cell_type": "markdown",
   "metadata": {
    "id": "ZnJh3nevAhsD"
   },
   "source": [
    "In Python, dictionaries are used to store associations similar to actual dictionaries that, e.g., translate between two different languages.\n",
    "\n",
    "A dictionary is a collection of basic Python data types in which \"elements\" consist of (key, value) pairs that are unordered, mutable and indexed. Every key is only allowed once in the dictionary (since it is indexed), but the same value can occur many times. Dictionaries are written with curly brackets and  can be initialized like this:"
   ]
  },
  {
   "cell_type": "code",
   "execution_count": null,
   "metadata": {
    "id": "JhAXqzKDAhsD"
   },
   "outputs": [],
   "source": [
    "d = {'cat': 'Katze', 'flower': 'Blume', 'house': 'Haus', 'owl': 'Eule'}\n",
    "d"
   ]
  },
  {
   "cell_type": "markdown",
   "metadata": {
    "id": "iqSkgP0lAhsD"
   },
   "source": [
    "Retrieve and print the value corresponding to the key \"cat\":"
   ]
  },
  {
   "cell_type": "code",
   "execution_count": null,
   "metadata": {
    "id": "JN8QQJPmAhsD"
   },
   "outputs": [],
   "source": [
    "d['cat']"
   ]
  },
  {
   "cell_type": "markdown",
   "metadata": {
    "id": "Hh6TbSHLAhsD"
   },
   "source": [
    "We can add new dictionary elements:"
   ]
  },
  {
   "cell_type": "code",
   "execution_count": null,
   "metadata": {
    "id": "hKa7SyfuAhsD"
   },
   "outputs": [],
   "source": [
    "d['pumpkin'] = 'Kürbis'\n",
    "d"
   ]
  },
  {
   "cell_type": "markdown",
   "metadata": {},
   "source": [
    "And we can modify existing dictionary element by overwriting them (since every key is only allowed once):"
   ]
  },
  {
   "cell_type": "code",
   "execution_count": null,
   "metadata": {},
   "outputs": [],
   "source": [
    "d['owl'] = 'Kauz'\n",
    "d"
   ]
  },
  {
   "attachments": {},
   "cell_type": "markdown",
   "metadata": {
    "id": "5RbM8OWkAhsF"
   },
   "source": [
    "We can retrieve all keys from a dictionary:"
   ]
  },
  {
   "cell_type": "code",
   "execution_count": null,
   "metadata": {
    "id": "1sKK_VQ-AhsF"
   },
   "outputs": [],
   "source": [
    "d.keys()"
   ]
  },
  {
   "attachments": {},
   "cell_type": "markdown",
   "metadata": {},
   "source": [
    "We can retrieve all values from a dictionary:"
   ]
  },
  {
   "cell_type": "code",
   "execution_count": null,
   "metadata": {},
   "outputs": [],
   "source": [
    "d.values()"
   ]
  },
  {
   "attachments": {},
   "cell_type": "markdown",
   "metadata": {
    "id": "TspmIAVwAhsG"
   },
   "source": [
    "Try to retrieve a dictionary value that is not contained in the dictionary (this will result in a `KeyError`): "
   ]
  },
  {
   "cell_type": "code",
   "execution_count": null,
   "metadata": {
    "id": "dBTFvm1lAhsG"
   },
   "outputs": [],
   "source": [
    "#print(d['apple'])"
   ]
  },
  {
   "attachments": {},
   "cell_type": "markdown",
   "metadata": {
    "id": "m5QNnbHKAhsJ"
   },
   "source": [
    "## Fundamental Programming Structures"
   ]
  },
  {
   "attachments": {},
   "cell_type": "markdown",
   "metadata": {
    "id": "flEH90sOAhsJ"
   },
   "source": [
    "Now that we introduced all the necessary datatypes, we can have a closer look at the basic programming structures of Python:\n",
    "\n",
    "> * **For-Loops** - used to iterate over a block of code.\n",
    "> * **If-Statements** - used to branch between different code blocks based on conditions."
   ]
  },
  {
   "attachments": {},
   "cell_type": "markdown",
   "metadata": {
    "id": "gUyNrvBFAhsJ"
   },
   "source": [
    "### loop structures: `for` loops"
   ]
  },
  {
   "attachments": {},
   "cell_type": "markdown",
   "metadata": {
    "id": "3WOZuHVTAhsJ"
   },
   "source": [
    "`For` loops enable your program to iterate over a block of code, solving repetetive tasks and problems.\n",
    "\n",
    "The idea behind `for` loops is simple as shown in this example:"
   ]
  },
  {
   "cell_type": "code",
   "execution_count": null,
   "metadata": {},
   "outputs": [],
   "source": [
    "for s in ['cat', 'night', 'pumpkin']:\n",
    "    print(s)"
   ]
  },
  {
   "attachments": {},
   "cell_type": "markdown",
   "metadata": {},
   "source": [
    "What happens here can be easily translated into human language: `for` each element (we name it `s`) in a list (`['cat', 'night', 'pumpkin']`), print `s` on the screen (`print(s)`).\n",
    "\n",
    "**Important Python Rule No. 2: Python relies on the concept of indentation, using whitespace (or tabs), to define a block of code**. This means that all code lines that use the same level of indentation belong to the same block. This is relevant for for-loops, if-statements, function definitions, etc. Other programming languages such as Java or C# often use brackets or curly-brackets for this purpose. \n",
    "\n",
    "Consider the following examples:"
   ]
  },
  {
   "cell_type": "code",
   "execution_count": null,
   "metadata": {
    "id": "uyKhmfZzAhsF"
   },
   "outputs": [],
   "source": [
    "for s in ['cat', 'night', 'pumpkin']:\n",
    "    print(s)\n",
    "    print(\"I'm here\")"
   ]
  },
  {
   "cell_type": "code",
   "execution_count": null,
   "metadata": {
    "id": "uyKhmfZzAhsF"
   },
   "outputs": [],
   "source": [
    "for s in ['cat', 'night', 'pumpkin']:\n",
    "    print(s)\n",
    "print(\"I'm here\")"
   ]
  },
  {
   "attachments": {},
   "cell_type": "markdown",
   "metadata": {},
   "source": [
    "The outcome differs, depending on whether the statement `print(\"I'm here\")` is inside the indented code block, or not. So please be aware!\n",
    "\n",
    "There are two important keywords to control `for` loops: `continue` and `break`. The following examples will showcase what they do. We will make use of the `range()` function here, which simply outputs a list based on given start and stop values:"
   ]
  },
  {
   "cell_type": "code",
   "execution_count": null,
   "metadata": {
    "id": "e22EoVZVAhsK"
   },
   "outputs": [],
   "source": [
    "for i in range(1, 10):\n",
    "    print(i)"
   ]
  },
  {
   "attachments": {},
   "cell_type": "markdown",
   "metadata": {
    "id": "dzjP1eNhAhsK"
   },
   "source": [
    "We can use the `break` keyword to stop a loop from iterating any further [note that the `if` statement is introduced below]:"
   ]
  },
  {
   "cell_type": "code",
   "execution_count": null,
   "metadata": {
    "id": "osyVk7JdAhsK"
   },
   "outputs": [],
   "source": [
    "for i in range(1, 10):\n",
    "    if i == 4:\n",
    "        break\n",
    "    print(i)"
   ]
  },
  {
   "attachments": {},
   "cell_type": "markdown",
   "metadata": {
    "id": "fZK4kLcOAhsK"
   },
   "source": [
    "In contrast, the `continue` keyword is used to tell Python to skip the remainder of the code block and to continue with to the next iteration of the loop:"
   ]
  },
  {
   "cell_type": "code",
   "execution_count": null,
   "metadata": {
    "id": "_0DwsWTpAhsK"
   },
   "outputs": [],
   "source": [
    "for i in range(1, 10):\n",
    "    if i == 4:\n",
    "        continue\n",
    "    print(i)"
   ]
  },
  {
   "attachments": {},
   "cell_type": "markdown",
   "metadata": {
    "id": "DF2HSMQMAhsL"
   },
   "source": [
    "### Decision structures: `if` statements"
   ]
  },
  {
   "attachments": {},
   "cell_type": "markdown",
   "metadata": {
    "id": "vVBu5oEmAhsL"
   },
   "source": [
    "Decision structures evaluate expressions that produce Booleans (**True** or **False**) as an outcome and enable your program to use different branches based on these outcomes.\n",
    "\n",
    "For instance, we can use `if` statements to compare numbers:"
   ]
  },
  {
   "cell_type": "code",
   "execution_count": null,
   "metadata": {
    "id": "-7fawuboAhsL"
   },
   "outputs": [],
   "source": [
    "a = 4\n",
    "b = 7\n",
    "\n",
    "if b > a:\n",
    "    print(\"b is greater than a\")"
   ]
  },
  {
   "attachments": {},
   "cell_type": "markdown",
   "metadata": {
    "id": "L8lfHpzqAhsL"
   },
   "source": [
    "If the condition (`b > a`) is `True`, the following code block will be executed. Note the same use of indentation to define this code block as we saw in the discussion of the `for` loop."
   ]
  },
  {
   "attachments": {},
   "cell_type": "markdown",
   "metadata": {
    "id": "vf_1M6FsAhsL"
   },
   "source": [
    "We can easily increase the number of possible branches by adding additional conditions using the `elif` keyword. The `elif` keyword is Python's way of saying \"if the previous conditions were not true, then try this condition\":"
   ]
  },
  {
   "cell_type": "code",
   "execution_count": null,
   "metadata": {
    "id": "kM2KSPiiAhsL"
   },
   "outputs": [],
   "source": [
    "a = 4\n",
    "b = 4\n",
    "\n",
    "# test condition 1\n",
    "if b > a:\n",
    "  print(\"b is greater than a\")\n",
    "\n",
    "# test condition 2\n",
    "elif a == b:\n",
    "  print(\"a and b are equal\")\n",
    "\n",
    "elif a != b:\n",
    "    print(\"test check and so on... \")"
   ]
  },
  {
   "cell_type": "markdown",
   "metadata": {
    "id": "Iu4p06BPAhsL"
   },
   "source": [
    "Finally, we can use the `else` keyword to catch any case which isn't found by the preceding conditions:"
   ]
  },
  {
   "cell_type": "code",
   "execution_count": null,
   "metadata": {
    "id": "0ZidOfM8AhsL"
   },
   "outputs": [],
   "source": [
    "a = 8\n",
    "b = 4\n",
    "\n",
    "# test condition 1\n",
    "if b > a:\n",
    "  print(\"b is greater than a\")\n",
    "\n",
    "# test condition 2\n",
    "elif a == b:\n",
    "  print(\"a and b are equal\")\n",
    "\n",
    "# all other cases\n",
    "else:\n",
    "  print(\"a is greater than b\")"
   ]
  },
  {
   "cell_type": "markdown",
   "metadata": {
    "id": "7llay0hQAhsM"
   },
   "source": [
    "In the example above the value assigned to a variable `a` is greater than the value assigned to `b`, so the first `if` condition is not true. Also, the `elif` condition is not true, so we ultimately go to the `else` condition and print that \"a is greater than b\"."
   ]
  },
  {
   "attachments": {},
   "cell_type": "markdown",
   "metadata": {
    "id": "IwVBCT7TAhsM"
   },
   "source": [
    "## Python Functions"
   ]
  },
  {
   "attachments": {},
   "cell_type": "markdown",
   "metadata": {
    "id": "5USltVEXAhsM"
   },
   "source": [
    "A function is a block of organized, reusable code that is used to perform a single, related action. Functions provide better modularity for your application and allow for a high degree of reusable code. As you already saw, Python provides you with many built-in functions such as `print()`, etc. but you can also create your functions. These functions are called **user-defined functions**.\n",
    "\n",
    "A function is a block of code that only runs when it is called. You can pass data, known as arguments or parameters, into a function. A function can return data as a result. Python functions are defined using the `def` keyword.\n",
    "\n",
    "Let's recycle the code comparing two numbers from the previous section and put it into a function:"
   ]
  },
  {
   "cell_type": "code",
   "execution_count": null,
   "metadata": {},
   "outputs": [],
   "source": [
    "def compare(a, b):\n",
    "    \"\"\"This function compares two number and outputs its verdict on the screen.\"\"\"\n",
    "    if b > a:\n",
    "        print(\"b is greater than a\")\n",
    "    elif a == b:\n",
    "        print(\"a and b are equal\")\n",
    "    else:\n",
    "        print(\"a is greater than b\")"
   ]
  },
  {
   "attachments": {},
   "cell_type": "markdown",
   "metadata": {},
   "source": [
    "First, notice the use of indentation here: all code lines use indentation since they are part of the function definition. Those lines that are part of the if-structure use additional indentation. \n",
    "\n",
    "The line containing the tripe-double-quotes is called a **docstring**. It is common to include a docstring that briefly outlines what the function does.\n",
    "\n",
    "Let's evaluate this function:"
   ]
  },
  {
   "cell_type": "code",
   "execution_count": null,
   "metadata": {},
   "outputs": [],
   "source": [
    "compare(1, 2)"
   ]
  },
  {
   "cell_type": "code",
   "execution_count": null,
   "metadata": {},
   "outputs": [],
   "source": [
    "compare(100, 2)"
   ]
  },
  {
   "cell_type": "markdown",
   "metadata": {},
   "source": [
    "This does the trick, but the more \"pythonic\" way would be not to print the result on the screen, but to return it to the user:"
   ]
  },
  {
   "cell_type": "code",
   "execution_count": null,
   "metadata": {},
   "outputs": [],
   "source": [
    "def which_number_is_greater(a, b):\n",
    "    \"\"\"This function compares two numbers and returns the larger one.\"\"\"\n",
    "    if a > b:\n",
    "        return a\n",
    "    elif b > a:\n",
    "        return b\n",
    "    else:\n",
    "        return None"
   ]
  },
  {
   "cell_type": "code",
   "execution_count": null,
   "metadata": {},
   "outputs": [],
   "source": [
    "which_number_is_greater(100, 99)"
   ]
  },
  {
   "cell_type": "markdown",
   "metadata": {},
   "source": [
    "Note that the function call gets replaced with the result, which can be used right away in mathematical expressions:"
   ]
  },
  {
   "cell_type": "code",
   "execution_count": null,
   "metadata": {},
   "outputs": [],
   "source": [
    "which_number_is_greater(100, 99) + 1"
   ]
  },
  {
   "cell_type": "markdown",
   "metadata": {},
   "source": [
    "Finally, there are two types of arguments: positional arguments that are identfied as per their position in the function call and keyword arguments that have to be addressed specifically and typically have default values:"
   ]
  },
  {
   "cell_type": "code",
   "execution_count": null,
   "metadata": {},
   "outputs": [],
   "source": [
    "def some_math(a, b, c=0, d=1):\n",
    "    \"\"\"A generic function that does some random math.\"\"\"\n",
    "    return (a + 2*b + c) * d"
   ]
  },
  {
   "cell_type": "code",
   "execution_count": null,
   "metadata": {},
   "outputs": [],
   "source": [
    "some_math(1, 2)"
   ]
  },
  {
   "cell_type": "code",
   "execution_count": null,
   "metadata": {},
   "outputs": [],
   "source": [
    "some_math(1, 2, d=4, c=2)"
   ]
  },
  {
   "attachments": {},
   "cell_type": "markdown",
   "metadata": {},
   "source": [
    "## Python Modules\n",
    "\n",
    "Python provides a huge list of \"built-in\" functionality, things that it can do out-of-the-box. However, for specific use cases - like training deep neural networks - it requires functionality from external modules that can be readily \"imported\" into your Python runtime environment.\n",
    "\n",
    "We will learn about the NumPy package next, so let's see how we can import it."
   ]
  },
  {
   "cell_type": "code",
   "execution_count": null,
   "metadata": {},
   "outputs": [],
   "source": [
    "import numpy"
   ]
  },
  {
   "cell_type": "markdown",
   "metadata": {},
   "source": [
    "That's it. Now presume that we would like to use its `sqrt` function to calculate the square-root of 9:"
   ]
  },
  {
   "cell_type": "code",
   "execution_count": null,
   "metadata": {},
   "outputs": [],
   "source": [
    "numpy.sqrt(9)"
   ]
  },
  {
   "attachments": {},
   "cell_type": "markdown",
   "metadata": {},
   "source": [
    "So, in order to use a function from NumPy, we have to specify that we would like to use the `sqrt` from NumPy by typing `numpy.sqrt`. This is necessary to resolve possible confusion with other functions that might carry the same name. \n",
    "\n",
    "Since typing `numpy.` everytime we want to use a NumPy function quickly becomes tedious, you can give the NumPy module a different name (`np` is the usual choice) so you have to type less:"
   ]
  },
  {
   "cell_type": "code",
   "execution_count": null,
   "metadata": {},
   "outputs": [],
   "source": [
    "import numpy as np\n",
    "\n",
    "np.sqrt(9)"
   ]
  }
 ],
 "metadata": {
  "kernelspec": {
   "display_name": "base",
   "language": "python",
   "name": "python3"
  },
  "language_info": {
   "codemirror_mode": {
    "name": "ipython",
    "version": 3
   },
   "file_extension": ".py",
   "mimetype": "text/x-python",
   "name": "python",
   "nbconvert_exporter": "python",
   "pygments_lexer": "ipython3",
   "version": "3.9.12"
  },
  "toc": {
   "base_numbering": 1,
   "nav_menu": {},
   "number_sections": false,
   "sideBar": true,
   "skip_h1_title": false,
   "title_cell": "Table of Contents",
   "title_sidebar": "Contents",
   "toc_cell": false,
   "toc_position": {},
   "toc_section_display": true,
   "toc_window_display": false
  },
  "vscode": {
   "interpreter": {
    "hash": "8a759edab9623fec557173fc5dc3172aac588fd51e2e191f985f3e24b521fb85"
   }
  }
 },
 "nbformat": 4,
 "nbformat_minor": 4
}
